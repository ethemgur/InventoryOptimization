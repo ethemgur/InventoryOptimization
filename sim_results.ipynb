{
 "cells": [
  {
   "cell_type": "code",
   "execution_count": 1,
   "id": "alike-class",
   "metadata": {},
   "outputs": [],
   "source": [
    "import pandas as pd\n",
    "import numpy as np\n",
    "import matplotlib.pyplot as plt\n",
    "%matplotlib inline\n",
    "\n",
    "import seaborn as sns"
   ]
  },
  {
   "cell_type": "code",
   "execution_count": 5,
   "id": "marine-management",
   "metadata": {},
   "outputs": [],
   "source": [
    "df = pd.read_csv('sim_results.csv', index_col=0)"
   ]
  },
  {
   "cell_type": "code",
   "execution_count": 6,
   "id": "automatic-diesel",
   "metadata": {},
   "outputs": [
    {
     "data": {
      "text/html": [
       "<div>\n",
       "<style scoped>\n",
       "    .dataframe tbody tr th:only-of-type {\n",
       "        vertical-align: middle;\n",
       "    }\n",
       "\n",
       "    .dataframe tbody tr th {\n",
       "        vertical-align: top;\n",
       "    }\n",
       "\n",
       "    .dataframe thead th {\n",
       "        text-align: right;\n",
       "    }\n",
       "</style>\n",
       "<table border=\"1\" class=\"dataframe\">\n",
       "  <thead>\n",
       "    <tr style=\"text-align: right;\">\n",
       "      <th></th>\n",
       "      <th>w_index</th>\n",
       "      <th>l_code</th>\n",
       "      <th>p_code</th>\n",
       "      <th>mean_demand</th>\n",
       "      <th>safety_stock</th>\n",
       "      <th>mape</th>\n",
       "      <th>rmse</th>\n",
       "      <th>service_level</th>\n",
       "      <th>cycle_rate</th>\n",
       "      <th>bullwhip_rate</th>\n",
       "    </tr>\n",
       "  </thead>\n",
       "  <tbody>\n",
       "    <tr>\n",
       "      <th>0</th>\n",
       "      <td>0</td>\n",
       "      <td>1001</td>\n",
       "      <td>1000151924</td>\n",
       "      <td>128.96875</td>\n",
       "      <td>99.959977</td>\n",
       "      <td>51.454468</td>\n",
       "      <td>76.058724</td>\n",
       "      <td>0.635819</td>\n",
       "      <td>0.247261</td>\n",
       "      <td>2.966817</td>\n",
       "    </tr>\n",
       "    <tr>\n",
       "      <th>1</th>\n",
       "      <td>1</td>\n",
       "      <td>1001</td>\n",
       "      <td>1000039009</td>\n",
       "      <td>20.75000</td>\n",
       "      <td>21.915836</td>\n",
       "      <td>43.311005</td>\n",
       "      <td>11.623052</td>\n",
       "      <td>0.745918</td>\n",
       "      <td>0.400989</td>\n",
       "      <td>2.140621</td>\n",
       "    </tr>\n",
       "    <tr>\n",
       "      <th>2</th>\n",
       "      <td>2</td>\n",
       "      <td>1002</td>\n",
       "      <td>1000151924</td>\n",
       "      <td>125.03125</td>\n",
       "      <td>134.004617</td>\n",
       "      <td>31.094134</td>\n",
       "      <td>58.371783</td>\n",
       "      <td>0.803438</td>\n",
       "      <td>0.505392</td>\n",
       "      <td>1.834927</td>\n",
       "    </tr>\n",
       "    <tr>\n",
       "      <th>3</th>\n",
       "      <td>3</td>\n",
       "      <td>1001</td>\n",
       "      <td>1000151925</td>\n",
       "      <td>69.53125</td>\n",
       "      <td>67.577332</td>\n",
       "      <td>37.968652</td>\n",
       "      <td>37.679551</td>\n",
       "      <td>0.650642</td>\n",
       "      <td>0.457648</td>\n",
       "      <td>2.274440</td>\n",
       "    </tr>\n",
       "    <tr>\n",
       "      <th>4</th>\n",
       "      <td>4</td>\n",
       "      <td>1014</td>\n",
       "      <td>1000151924</td>\n",
       "      <td>102.93750</td>\n",
       "      <td>84.309495</td>\n",
       "      <td>48.702488</td>\n",
       "      <td>58.664971</td>\n",
       "      <td>0.608689</td>\n",
       "      <td>0.293402</td>\n",
       "      <td>3.680314</td>\n",
       "    </tr>\n",
       "    <tr>\n",
       "      <th>...</th>\n",
       "      <td>...</td>\n",
       "      <td>...</td>\n",
       "      <td>...</td>\n",
       "      <td>...</td>\n",
       "      <td>...</td>\n",
       "      <td>...</td>\n",
       "      <td>...</td>\n",
       "      <td>...</td>\n",
       "      <td>...</td>\n",
       "      <td>...</td>\n",
       "    </tr>\n",
       "    <tr>\n",
       "      <th>541</th>\n",
       "      <td>2664</td>\n",
       "      <td>2042</td>\n",
       "      <td>1000030686</td>\n",
       "      <td>3.53125</td>\n",
       "      <td>6.066523</td>\n",
       "      <td>100.946516</td>\n",
       "      <td>3.771388</td>\n",
       "      <td>0.636758</td>\n",
       "      <td>2.542157</td>\n",
       "      <td>1.659295</td>\n",
       "    </tr>\n",
       "    <tr>\n",
       "      <th>542</th>\n",
       "      <td>2696</td>\n",
       "      <td>1007</td>\n",
       "      <td>1000071547</td>\n",
       "      <td>2.21875</td>\n",
       "      <td>8.594620</td>\n",
       "      <td>146.072406</td>\n",
       "      <td>2.506275</td>\n",
       "      <td>1.000000</td>\n",
       "      <td>10.750389</td>\n",
       "      <td>1.299276</td>\n",
       "    </tr>\n",
       "    <tr>\n",
       "      <th>543</th>\n",
       "      <td>2729</td>\n",
       "      <td>1017</td>\n",
       "      <td>1000163025</td>\n",
       "      <td>2.71875</td>\n",
       "      <td>10.458411</td>\n",
       "      <td>185.687093</td>\n",
       "      <td>3.882260</td>\n",
       "      <td>1.000000</td>\n",
       "      <td>7.502722</td>\n",
       "      <td>1.313343</td>\n",
       "    </tr>\n",
       "    <tr>\n",
       "      <th>544</th>\n",
       "      <td>2730</td>\n",
       "      <td>2024</td>\n",
       "      <td>1000030687</td>\n",
       "      <td>2.50000</td>\n",
       "      <td>7.556411</td>\n",
       "      <td>106.561880</td>\n",
       "      <td>2.822019</td>\n",
       "      <td>0.840359</td>\n",
       "      <td>4.805666</td>\n",
       "      <td>1.337613</td>\n",
       "    </tr>\n",
       "    <tr>\n",
       "      <th>545</th>\n",
       "      <td>2736</td>\n",
       "      <td>2019</td>\n",
       "      <td>1000030687</td>\n",
       "      <td>3.53125</td>\n",
       "      <td>7.559524</td>\n",
       "      <td>96.546705</td>\n",
       "      <td>3.864195</td>\n",
       "      <td>0.734091</td>\n",
       "      <td>3.573296</td>\n",
       "      <td>1.568761</td>\n",
       "    </tr>\n",
       "  </tbody>\n",
       "</table>\n",
       "<p>546 rows × 10 columns</p>\n",
       "</div>"
      ],
      "text/plain": [
       "     w_index  l_code      p_code  mean_demand  safety_stock        mape  \\\n",
       "0          0    1001  1000151924    128.96875     99.959977   51.454468   \n",
       "1          1    1001  1000039009     20.75000     21.915836   43.311005   \n",
       "2          2    1002  1000151924    125.03125    134.004617   31.094134   \n",
       "3          3    1001  1000151925     69.53125     67.577332   37.968652   \n",
       "4          4    1014  1000151924    102.93750     84.309495   48.702488   \n",
       "..       ...     ...         ...          ...           ...         ...   \n",
       "541     2664    2042  1000030686      3.53125      6.066523  100.946516   \n",
       "542     2696    1007  1000071547      2.21875      8.594620  146.072406   \n",
       "543     2729    1017  1000163025      2.71875     10.458411  185.687093   \n",
       "544     2730    2024  1000030687      2.50000      7.556411  106.561880   \n",
       "545     2736    2019  1000030687      3.53125      7.559524   96.546705   \n",
       "\n",
       "          rmse  service_level  cycle_rate  bullwhip_rate  \n",
       "0    76.058724       0.635819    0.247261       2.966817  \n",
       "1    11.623052       0.745918    0.400989       2.140621  \n",
       "2    58.371783       0.803438    0.505392       1.834927  \n",
       "3    37.679551       0.650642    0.457648       2.274440  \n",
       "4    58.664971       0.608689    0.293402       3.680314  \n",
       "..         ...            ...         ...            ...  \n",
       "541   3.771388       0.636758    2.542157       1.659295  \n",
       "542   2.506275       1.000000   10.750389       1.299276  \n",
       "543   3.882260       1.000000    7.502722       1.313343  \n",
       "544   2.822019       0.840359    4.805666       1.337613  \n",
       "545   3.864195       0.734091    3.573296       1.568761  \n",
       "\n",
       "[546 rows x 10 columns]"
      ]
     },
     "execution_count": 6,
     "metadata": {},
     "output_type": "execute_result"
    }
   ],
   "source": [
    "df"
   ]
  },
  {
   "cell_type": "code",
   "execution_count": 7,
   "id": "liquid-lexington",
   "metadata": {},
   "outputs": [
    {
     "data": {
      "text/plain": [
       "0.8774797836988301"
      ]
     },
     "execution_count": 7,
     "metadata": {},
     "output_type": "execute_result"
    }
   ],
   "source": [
    "df['service_level'].mean()"
   ]
  },
  {
   "cell_type": "code",
   "execution_count": 14,
   "id": "auburn-quilt",
   "metadata": {},
   "outputs": [
    {
     "data": {
      "text/plain": [
       "<AxesSubplot:>"
      ]
     },
     "execution_count": 14,
     "metadata": {},
     "output_type": "execute_result"
    },
    {
     "data": {
      "image/png": "[encoded data removed]",
      "text/plain": [
       "<Figure size 432x288 with 1 Axes>"
      ]
     },
     "metadata": {
      "needs_background": "light"
     },
     "output_type": "display_data"
    }
   ],
   "source": [
    "df['service_level'].hist(bins=20)"
   ]
  },
  {
   "cell_type": "code",
   "execution_count": 28,
   "id": "micro-living",
   "metadata": {},
   "outputs": [
    {
     "data": {
      "text/plain": [
       "0.4706959706959707"
      ]
     },
     "execution_count": 28,
     "metadata": {},
     "output_type": "execute_result"
    }
   ],
   "source": [
    "(df['service_level']>.95).mean()"
   ]
  },
  {
   "cell_type": "code",
   "execution_count": 29,
   "id": "artificial-tenant",
   "metadata": {},
   "outputs": [
    {
     "data": {
      "text/plain": [
       "<AxesSubplot:>"
      ]
     },
     "execution_count": 29,
     "metadata": {},
     "output_type": "execute_result"
    },
    {
     "data": {
      "image/png": "[encoded data removed]",
      "text/plain": [
       "<Figure size 432x288 with 1 Axes>"
      ]
     },
     "metadata": {
      "needs_background": "light"
     },
     "output_type": "display_data"
    }
   ],
   "source": [
    "df['cycle_rate'].hist()"
   ]
  },
  {
   "cell_type": "code",
   "execution_count": 30,
   "id": "exposed-rachel",
   "metadata": {},
   "outputs": [
    {
     "data": {
      "text/plain": [
       "0.5787545787545788"
      ]
     },
     "execution_count": 30,
     "metadata": {},
     "output_type": "execute_result"
    }
   ],
   "source": [
    "(df['cycle_rate']<=4).mean()"
   ]
  },
  {
   "cell_type": "code",
   "execution_count": 27,
   "id": "faced-jamaica",
   "metadata": {},
   "outputs": [
    {
     "data": {
      "image/png": "[encoded data removed]",
      "text/plain": [
       "<Figure size 504x360 with 2 Axes>"
      ]
     },
     "metadata": {},
     "output_type": "display_data"
    }
   ],
   "source": [
    "corr = df.corr()\n",
    "mask = np.zeros_like(corr)\n",
    "mask[np.triu_indices_from(mask)] = True\n",
    "with sns.axes_style(\"white\"):\n",
    "    f, ax = plt.subplots(figsize=(7, 5))\n",
    "    ax = sns.heatmap(corr, mask=mask, vmin=-1, vmax=1, annot=True, cmap='BrBG')"
   ]
  },
  {
   "cell_type": "code",
   "execution_count": 68,
   "id": "valuable-stick",
   "metadata": {},
   "outputs": [],
   "source": [
    "df2 = pd.read_csv('sim_results.csv', index_col=0)"
   ]
  },
  {
   "cell_type": "code",
   "execution_count": 82,
   "id": "owned-catholic",
   "metadata": {},
   "outputs": [
    {
     "data": {
      "text/plain": [
       "(0.4981684981684982, 0.4706959706959707)"
      ]
     },
     "execution_count": 82,
     "metadata": {},
     "output_type": "execute_result"
    }
   ],
   "source": [
    "(df2['service_level'] > .95).mean(), (df['service_level'] > .95).mean()"
   ]
  },
  {
   "cell_type": "code",
   "execution_count": 83,
   "id": "stupid-kruger",
   "metadata": {},
   "outputs": [
    {
     "data": {
      "text/plain": [
       "<AxesSubplot:>"
      ]
     },
     "execution_count": 83,
     "metadata": {},
     "output_type": "execute_result"
    },
    {
     "data": {
      "image/png": "[encoded data removed]",
      "text/plain": [
       "<Figure size 432x288 with 1 Axes>"
      ]
     },
     "metadata": {
      "needs_background": "light"
     },
     "output_type": "display_data"
    }
   ],
   "source": [
    "df2['service_level'].hist(bins=20)"
   ]
  },
  {
   "cell_type": "code",
   "execution_count": 78,
   "id": "worse-yield",
   "metadata": {},
   "outputs": [
    {
     "data": {
      "text/plain": [
       "<AxesSubplot:>"
      ]
     },
     "execution_count": 78,
     "metadata": {},
     "output_type": "execute_result"
    },
    {
     "data": {
      "image/png": "[encoded data removed]",
      "text/plain": [
       "<Figure size 432x288 with 1 Axes>"
      ]
     },
     "metadata": {
      "needs_background": "light"
     },
     "output_type": "display_data"
    }
   ],
   "source": [
    "df['service_level'].hist(bins=20)"
   ]
  },
  {
   "cell_type": "code",
   "execution_count": 84,
   "id": "small-ireland",
   "metadata": {},
   "outputs": [],
   "source": [
    "df3 = pd.read_csv('prediction/forecast_0_32.csv')"
   ]
  },
  {
   "cell_type": "code",
   "execution_count": 99,
   "id": "tamil-closure",
   "metadata": {},
   "outputs": [
    {
     "data": {
      "text/plain": [
       "<AxesSubplot:>"
      ]
     },
     "execution_count": 99,
     "metadata": {},
     "output_type": "execute_result"
    },
    {
     "data": {
      "image/png": "[encoded data removed]",
      "text/plain": [
       "<Figure size 432x288 with 1 Axes>"
      ]
     },
     "metadata": {
      "needs_background": "light"
     },
     "output_type": "display_data"
    }
   ],
   "source": [
    "df3 = df3[(df3['location_code_1001']==1) & (df3['product_code_1000039009']==1)]\n",
    "(df3['yhat']-df3['y']).hist()"
   ]
  },
  {
   "cell_type": "code",
   "execution_count": 15,
   "id": "interested-acoustic",
   "metadata": {},
   "outputs": [],
   "source": [
    "dfx = pd.read_csv('prediction/forecast_0_32.csv')\n",
    "dfp = pd.read_csv('prediction/forecast_0_32_p.csv')"
   ]
  },
  {
   "cell_type": "code",
   "execution_count": 6,
   "id": "certified-survival",
   "metadata": {},
   "outputs": [
    {
     "data": {
      "text/plain": [
       "(0.22055598083624578, -0.4064075213972414)"
      ]
     },
     "execution_count": 6,
     "metadata": {},
     "output_type": "execute_result"
    }
   ],
   "source": [
    "np.mean(dfp['yhat'] - dfp['y']), np.mean(dfx['yhat'] - dfx['y'])"
   ]
  },
  {
   "cell_type": "code",
   "execution_count": 9,
   "id": "defensive-wiring",
   "metadata": {},
   "outputs": [],
   "source": [
    "simp = pd.read_csv('sim_results_p.csv')"
   ]
  },
  {
   "cell_type": "code",
   "execution_count": 46,
   "id": "palestinian-joshua",
   "metadata": {},
   "outputs": [],
   "source": [
    "simn = pd.read_csv('sim_results_nb.csv')"
   ]
  },
  {
   "cell_type": "code",
   "execution_count": 50,
   "id": "local-wagon",
   "metadata": {},
   "outputs": [
    {
     "data": {
      "text/plain": [
       "0.7509157509157509"
      ]
     },
     "execution_count": 50,
     "metadata": {},
     "output_type": "execute_result"
    }
   ],
   "source": [
    "np.mean(sim_agg['service_level'] > .95)"
   ]
  },
  {
   "cell_type": "code",
   "execution_count": 16,
   "id": "weekly-breed",
   "metadata": {},
   "outputs": [],
   "source": [
    "sim_agg = df[['w_index', 'l_code', 'p_code']]"
   ]
  },
  {
   "cell_type": "code",
   "execution_count": null,
   "id": "dated-destination",
   "metadata": {},
   "outputs": [],
   "source": [
    "sim_agg['xg'] = df['service_level']\n",
    "sim_agg['pr'] = simp['service_level']\n",
    "sim_agg['nb'] = simn['service_level']"
   ]
  },
  {
   "cell_type": "code",
   "execution_count": null,
   "id": "tight-lover",
   "metadata": {},
   "outputs": [],
   "source": [
    "sim_agg['service_level'] = sim_agg.apply(lambda x: max(x['xg'], x['pr'], x['nb']), axis=1)"
   ]
  },
  {
   "cell_type": "code",
   "execution_count": null,
   "id": "proud-computer",
   "metadata": {},
   "outputs": [],
   "source": [
    "sim_agg['mean_demand'] = df['mean_demand']"
   ]
  },
  {
   "cell_type": "code",
   "execution_count": 55,
   "id": "aggregate-database",
   "metadata": {},
   "outputs": [],
   "source": [
    "for i in ['xg', 'nb', 'pr']:\n",
    "    sim_agg['sl_%s' % i] = sim_agg.apply(lambda x: max([x['xg'], x['pr'], x['nb']]) == x[i], axis=1)"
   ]
  },
  {
   "cell_type": "code",
   "execution_count": 66,
   "id": "interracial-position",
   "metadata": {},
   "outputs": [],
   "source": [
    "sim_dummy = pd.get_dummies(sim_agg, columns=['l_code', 'p_code']).corr()[['sl_xg', 'sl_pr', 'sl_nb']]"
   ]
  },
  {
   "cell_type": "code",
   "execution_count": 81,
   "id": "alike-sheet",
   "metadata": {},
   "outputs": [],
   "source": [
    "sim_dummy.drop(['xg', 'pr', 'nb'], inplace=True)"
   ]
  },
  {
   "cell_type": "code",
   "execution_count": 109,
   "id": "incorrect-stomach",
   "metadata": {},
   "outputs": [
    {
     "data": {
      "text/plain": [
       "(array([[211.,  27.,  10.,   5.,   1.,   0.,   0.,   0.,   0.,   0.,   0.,\n",
       "           0.,   0.,   0.,   0.,   0.,   0.,   0.,   0.,   0.],\n",
       "        [160.,  53.,  26.,  10.,   2.,   3.,   4.,   0.,   0.,   0.,   0.,\n",
       "           1.,   0.,   0.,   0.,   1.,   0.,   0.,   0.,   1.],\n",
       "        [167.,  29.,  18.,  10.,   7.,   0.,   4.,   2.,   1.,   0.,   2.,\n",
       "           0.,   0.,   0.,   0.,   0.,   0.,   0.,   0.,   1.]]),\n",
       " array([  1.625    ,   7.9921875,  14.359375 ,  20.7265625,  27.09375  ,\n",
       "         33.4609375,  39.828125 ,  46.1953125,  52.5625   ,  58.9296875,\n",
       "         65.296875 ,  71.6640625,  78.03125  ,  84.3984375,  90.765625 ,\n",
       "         97.1328125, 103.5      , 109.8671875, 116.234375 , 122.6015625,\n",
       "        128.96875  ]),\n",
       " <a list of 3 BarContainer objects>)"
      ]
     },
     "execution_count": 109,
     "metadata": {},
     "output_type": "execute_result"
    },
    {
     "data": {
      "image/png": "[encoded data removed]",
      "text/plain": [
       "<Figure size 432x288 with 1 Axes>"
      ]
     },
     "metadata": {
      "needs_background": "light"
     },
     "output_type": "display_data"
    }
   ],
   "source": [
    "plt.hist([sim_agg[sim_agg['sl_xg']]['mean_demand'], sim_agg[sim_agg['sl_pr']]['mean_demand'], sim_agg[sim_agg['sl_nb']]['mean_demand']], color=['r', 'b', 'g'], alpha=.5, bins=20)"
   ]
  },
  {
   "cell_type": "code",
   "execution_count": 123,
   "id": "smaller-playing",
   "metadata": {},
   "outputs": [
    {
     "data": {
      "text/plain": [
       "(array([[184.,  41.,  11.,   4.,   5.,   3.,   3.,   2.,   0.,   0.,   0.,\n",
       "           0.,   1.,   0.,   0.,   0.,   0.,   0.,   0.,   0.],\n",
       "        [136.,  64.,  28.,  15.,   6.,   3.,   3.,   1.,   0.,   1.,   0.,\n",
       "           0.,   1.,   0.,   0.,   1.,   1.,   0.,   0.,   1.],\n",
       "        [118.,  45.,  17.,  12.,  13.,   8.,   6.,   9.,   2.,   5.,   1.,\n",
       "           2.,   0.,   0.,   1.,   0.,   0.,   0.,   0.,   2.]]),\n",
       " array([ 0.9217353 ,  4.61168732,  8.30163935, 11.99159138, 15.6815434 ,\n",
       "        19.37149543, 23.06144746, 26.75139948, 30.44135151, 34.13130353,\n",
       "        37.82125556, 41.51120759, 45.20115961, 48.89111164, 52.58106367,\n",
       "        56.27101569, 59.96096772, 63.65091974, 67.34087177, 71.0308238 ,\n",
       "        74.72077582]),\n",
       " <a list of 3 BarContainer objects>)"
      ]
     },
     "execution_count": 123,
     "metadata": {},
     "output_type": "execute_result"
    },
    {
     "data": {
      "image/png": "[encoded data removed]",
      "text/plain": [
       "<Figure size 432x288 with 1 Axes>"
      ]
     },
     "metadata": {
      "needs_background": "light"
     },
     "output_type": "display_data"
    }
   ],
   "source": [
    "plt.hist([sim_agg[sim_agg['sl_xg']]['std'], sim_agg[sim_agg['sl_pr']]['std'], sim_agg[sim_agg['sl_nb']]['std']], color=['r', 'b', 'g'], alpha=.5, bins=20)"
   ]
  },
  {
   "cell_type": "code",
   "execution_count": 124,
   "id": "cutting-explanation",
   "metadata": {},
   "outputs": [
    {
     "data": {
      "text/plain": [
       "(array([[ 27., 170.,  46.,   7.,   1.,   0.,   1.,   1.,   0.,   0.,   0.,\n",
       "           0.,   0.,   0.,   0.,   0.,   0.,   0.,   0.,   1.],\n",
       "        [ 36., 139.,  51.,  24.,   9.,   1.,   0.,   0.,   0.,   0.,   0.,\n",
       "           0.,   0.,   0.,   0.,   0.,   0.,   0.,   0.,   1.],\n",
       "        [ 47., 151.,  35.,   7.,   1.,   0.,   0.,   0.,   0.,   0.,   0.,\n",
       "           0.,   0.,   0.,   0.,   0.,   0.,   0.,   0.,   0.]]),\n",
       " array([0.41482048, 0.60414522, 0.79346996, 0.98279469, 1.17211943,\n",
       "        1.36144417, 1.55076891, 1.74009365, 1.92941839, 2.11874313,\n",
       "        2.30806787, 2.49739261, 2.68671735, 2.87604209, 3.06536682,\n",
       "        3.25469156, 3.4440163 , 3.63334104, 3.82266578, 4.01199052,\n",
       "        4.20131526]),\n",
       " <a list of 3 BarContainer objects>)"
      ]
     },
     "execution_count": 124,
     "metadata": {},
     "output_type": "execute_result"
    },
    {
     "data": {
      "image/png": "[encoded data removed]",
      "text/plain": [
       "<Figure size 432x288 with 1 Axes>"
      ]
     },
     "metadata": {
      "needs_background": "light"
     },
     "output_type": "display_data"
    }
   ],
   "source": [
    "plt.hist([sim_agg[sim_agg['sl_xg']]['std_mean'], sim_agg[sim_agg['sl_pr']]['std_mean'], sim_agg[sim_agg['sl_nb']]['std_mean']], color=['r', 'b', 'g'], alpha=.5, bins=20)"
   ]
  },
  {
   "cell_type": "code",
   "execution_count": 170,
   "id": "decreased-advisory",
   "metadata": {},
   "outputs": [],
   "source": [
    "fxg = pd.read_csv('prediction/forecast_32_32.csv')\n",
    "fpr = pd.read_csv('prediction/forecast_32_32_p.csv')\n",
    "fnb = pd.read_csv('prediction/forecast_32_32_nb.csv')\n",
    "for x in sim_agg.index:\n",
    "    l = sim_agg.loc[x, 'l_code']\n",
    "    p = sim_agg.loc[x, 'p_code']\n",
    "\n",
    "    new_df = fxg[(fxg['location_code']==l) & (fxg['product_code']==p)].iloc[-32:, :]\n",
    "    rmse = np.sqrt(np.mean((new_df['y'] - new_df['yhat'])**2))\n",
    "    sim_agg.loc[x, 'rmse_xg'] = rmse\n",
    "    error = np.mean(new_df['yhat'] - new_df['y'])\n",
    "    sim_agg.loc[x, 'error_xg'] = error\n",
    "    \n",
    "    new_df = fpr[(fpr['location_code']==l) & (fpr['product_code']==p)].iloc[-32:, :]\n",
    "    rmse = np.sqrt(np.mean((new_df['y'] - new_df['yhat'])**2))\n",
    "    sim_agg.loc[x, 'rmse_pr'] = rmse\n",
    "    error = np.mean(new_df['yhat'] - new_df['y'])\n",
    "    sim_agg.loc[x, 'error_pr'] = error\n",
    "    \n",
    "    new_df = fnb[(fnb['location_code']==l) & (fnb['product_code']==p)].iloc[-32:, :]\n",
    "    rmse = np.sqrt(np.mean((new_df['y'] - new_df['yhat'])**2))\n",
    "    sim_agg.loc[x, 'rmse_nb'] = rmse\n",
    "    error = np.mean(new_df['yhat'] - new_df['y'])\n",
    "    sim_agg.loc[x, 'error_nb'] = error"
   ]
  },
  {
   "cell_type": "code",
   "execution_count": 128,
   "id": "velvet-bacon",
   "metadata": {},
   "outputs": [
    {
     "data": {
      "text/plain": [
       "(0.4706959706959707, 0.4652014652014652, 0.510989010989011)"
      ]
     },
     "execution_count": 128,
     "metadata": {},
     "output_type": "execute_result"
    }
   ],
   "source": [
    "np.mean(sim_agg['xg']>.95), np.mean(sim_agg['pr']>.95), np.mean(sim_agg['nb']>.95)"
   ]
  },
  {
   "cell_type": "code",
   "execution_count": 132,
   "id": "incoming-chassis",
   "metadata": {},
   "outputs": [
    {
     "data": {
      "text/plain": [
       "0.7509157509157509"
      ]
     },
     "execution_count": 132,
     "metadata": {},
     "output_type": "execute_result"
    }
   ],
   "source": [
    "np.mean(sim_agg['service_level']>.95)"
   ]
  },
  {
   "cell_type": "code",
   "execution_count": 141,
   "id": "meaningful-personality",
   "metadata": {},
   "outputs": [
    {
     "data": {
      "text/plain": [
       "(array([[  0.,   3.,   2.,   5.,   7.,  17.,  13.,  33.,  44., 422.],\n",
       "        [  7.,  10.,  18.,  12.,  26.,  32.,  33.,  66.,  65., 277.]]),\n",
       " array([0.37493382, 0.43744043, 0.49994705, 0.56245367, 0.62496029,\n",
       "        0.68746691, 0.74997353, 0.81248014, 0.87498676, 0.93749338,\n",
       "        1.        ]),\n",
       " <a list of 2 BarContainer objects>)"
      ]
     },
     "execution_count": 141,
     "metadata": {},
     "output_type": "execute_result"
    },
    {
     "data": {
      "image/png": "[encoded data removed]",
      "text/plain": [
       "<Figure size 432x288 with 1 Axes>"
      ]
     },
     "metadata": {
      "needs_background": "light"
     },
     "output_type": "display_data"
    }
   ],
   "source": [
    "plt.hist([sim_agg['service_level'], df['service_level']])"
   ]
  },
  {
   "cell_type": "code",
   "execution_count": 200,
   "id": "native-nickel",
   "metadata": {},
   "outputs": [],
   "source": [
    "fs = ['xg', 'pr', 'nb']\n",
    "for i in fs:\n",
    "    sim_agg['service_rmse'] = sim_agg.apply(lambda x: x[fs[np.argmin([x['rmse_xg'], x['rmse_pr'], x['rmse_nb']])]], axis=1)"
   ]
  },
  {
   "cell_type": "code",
   "execution_count": null,
   "id": "intelligent-bedroom",
   "metadata": {},
   "outputs": [],
   "source": [
    "np.mean(sim_agg['cycle_rate'] > .95)"
   ]
  },
  {
   "cell_type": "code",
   "execution_count": 186,
   "id": "interracial-screening",
   "metadata": {},
   "outputs": [],
   "source": [
    "sim2 = pd.read_csv('sim_results_2.csv')"
   ]
  },
  {
   "cell_type": "code",
   "execution_count": 191,
   "id": "nutritional-supplier",
   "metadata": {},
   "outputs": [
    {
     "data": {
      "text/plain": [
       "(array([[  7.,  10.,  18.,  12.,  26.,  32.,  33.,  66.,  65., 277.],\n",
       "        [  0.,   1.,   5.,   6.,  12.,  26.,  48.,  76., 121., 251.]]),\n",
       " array([0.37493382, 0.43744043, 0.49994705, 0.56245367, 0.62496029,\n",
       "        0.68746691, 0.74997353, 0.81248014, 0.87498676, 0.93749338,\n",
       "        1.        ]),\n",
       " <a list of 2 BarContainer objects>)"
      ]
     },
     "execution_count": 191,
     "metadata": {},
     "output_type": "execute_result"
    },
    {
     "data": {
      "image/png": "[encoded data removed]",
      "text/plain": [
       "<Figure size 432x288 with 1 Axes>"
      ]
     },
     "metadata": {
      "needs_background": "light"
     },
     "output_type": "display_data"
    }
   ],
   "source": [
    "plt.hist([df['service_level'], sim2['service_level']])"
   ]
  },
  {
   "cell_type": "code",
   "execution_count": 193,
   "id": "furnished-relay",
   "metadata": {},
   "outputs": [
    {
     "data": {
      "text/plain": [
       "(0.15062946692837742, 0.10323966814557863)"
      ]
     },
     "execution_count": 193,
     "metadata": {},
     "output_type": "execute_result"
    }
   ],
   "source": [
    "df['service_level'].std(), sim2['service_level'].std()"
   ]
  },
  {
   "cell_type": "code",
   "execution_count": 195,
   "id": "quantitative-acrylic",
   "metadata": {},
   "outputs": [
    {
     "data": {
      "text/plain": [
       "(0.8774797836988301, 0.8981274666466221)"
      ]
     },
     "execution_count": 195,
     "metadata": {},
     "output_type": "execute_result"
    }
   ],
   "source": [
    "df['service_level'].mean(), sim2['service_level'].mean()"
   ]
  },
  {
   "cell_type": "code",
   "execution_count": 196,
   "id": "figured-subdivision",
   "metadata": {},
   "outputs": [
    {
     "data": {
      "text/plain": [
       "(0.4706959706959707, 0.3901098901098901)"
      ]
     },
     "execution_count": 196,
     "metadata": {},
     "output_type": "execute_result"
    }
   ],
   "source": [
    "np.mean(df['service_level'] > .95), np.mean(sim2['service_level'] > .95)"
   ]
  },
  {
   "cell_type": "code",
   "execution_count": 199,
   "id": "automotive-atmosphere",
   "metadata": {},
   "outputs": [
    {
     "data": {
      "text/plain": [
       "(0.5842490842490843, 0.5970695970695971)"
      ]
     },
     "execution_count": 199,
     "metadata": {},
     "output_type": "execute_result"
    }
   ],
   "source": [
    "np.mean(df['service_level'] > .9), np.mean(sim2['service_level'] > .9)"
   ]
  },
  {
   "cell_type": "code",
   "execution_count": 2,
   "id": "relevant-compromise",
   "metadata": {},
   "outputs": [],
   "source": [
    "sim4 = pd.read_csv('sim_results_4.csv')"
   ]
  },
  {
   "cell_type": "code",
   "execution_count": 3,
   "id": "challenging-seattle",
   "metadata": {},
   "outputs": [
    {
     "data": {
      "text/plain": [
       "0.9372006645277703"
      ]
     },
     "execution_count": 3,
     "metadata": {},
     "output_type": "execute_result"
    }
   ],
   "source": [
    "sim4['service_level'].mean()"
   ]
  },
  {
   "cell_type": "code",
   "execution_count": 17,
   "id": "mounted-subdivision",
   "metadata": {},
   "outputs": [
    {
     "data": {
      "text/plain": [
       "<AxesSubplot:>"
      ]
     },
     "execution_count": 17,
     "metadata": {},
     "output_type": "execute_result"
    },
    {
     "data": {
      "image/png": "[encoded data removed]",
      "text/plain": [
       "<Figure size 432x288 with 1 Axes>"
      ]
     },
     "metadata": {
      "needs_background": "light"
     },
     "output_type": "display_data"
    }
   ],
   "source": [
    "sim4['service_level'].hist(bins=list(np.arange(0,1.01,.05)))"
   ]
  },
  {
   "cell_type": "code",
   "execution_count": 18,
   "id": "accompanied-dominant",
   "metadata": {},
   "outputs": [
    {
     "data": {
      "text/plain": [
       "[0.0,\n",
       " 0.05,\n",
       " 0.1,\n",
       " 0.15000000000000002,\n",
       " 0.2,\n",
       " 0.25,\n",
       " 0.30000000000000004,\n",
       " 0.35000000000000003,\n",
       " 0.4,\n",
       " 0.45,\n",
       " 0.5,\n",
       " 0.55,\n",
       " 0.6000000000000001,\n",
       " 0.65,\n",
       " 0.7000000000000001,\n",
       " 0.75,\n",
       " 0.8,\n",
       " 0.8500000000000001,\n",
       " 0.9,\n",
       " 0.9500000000000001,\n",
       " 1.0]"
      ]
     },
     "execution_count": 18,
     "metadata": {},
     "output_type": "execute_result"
    }
   ],
   "source": [
    "list(np.arange(0,1.01,.05))"
   ]
  },
  {
   "cell_type": "code",
   "execution_count": 24,
   "id": "distributed-conflict",
   "metadata": {},
   "outputs": [],
   "source": [
    "def get_avg_price(x):\n",
    "    l = x['l_code']\n",
    "    p = x['p_code']\n",
    "    return dfx[(dfx['location_code']==l) & (dfx['product_code']==p)]['avg_sales_price'].values[-32:].mean()\n",
    "\n",
    "sim4['price'] = sim4.apply(get_avg_price, axis=1)"
   ]
  },
  {
   "cell_type": "code",
   "execution_count": 42,
   "id": "statistical-pittsburgh",
   "metadata": {},
   "outputs": [
    {
     "data": {
      "text/plain": [
       "146.64188169944822"
      ]
     },
     "execution_count": 42,
     "metadata": {},
     "output_type": "execute_result"
    }
   ],
   "source": [
    "np.sum(sim4['cycle_rate'] * sim4['price'] * sim4['mean_demand']) / (sim4['mean_demand'].sum())"
   ]
  },
  {
   "cell_type": "code",
   "execution_count": 40,
   "id": "social-database",
   "metadata": {},
   "outputs": [
    {
     "data": {
      "text/plain": [
       "4.469584541871624"
      ]
     },
     "execution_count": 40,
     "metadata": {},
     "output_type": "execute_result"
    }
   ],
   "source": [
    "np.sum(sim4['cycle_rate'] * sim4['mean_demand']) / (sim4['mean_demand'].sum())"
   ]
  },
  {
   "cell_type": "code",
   "execution_count": 45,
   "id": "rapid-split",
   "metadata": {},
   "outputs": [
    {
     "data": {
      "text/plain": [
       "4.735997661752361"
      ]
     },
     "execution_count": 45,
     "metadata": {},
     "output_type": "execute_result"
    }
   ],
   "source": [
    "np.sum(sim4['cycle_rate'] * sim4['price'] * sim4['mean_demand']) / np.sum(sim4['mean_demand'] * sim4['price'])"
   ]
  },
  {
   "cell_type": "code",
   "execution_count": 54,
   "id": "roman-terrorism",
   "metadata": {},
   "outputs": [
    {
     "name": "stdout",
     "output_type": "stream",
     "text": [
      "service_level: 0.91\n",
      "cycle_rate: 4.74\n",
      "bullwhip_rate: 1.55\n"
     ]
    }
   ],
   "source": [
    "metrics = ['service_level', 'cycle_rate', 'bullwhip_rate']\n",
    "\n",
    "for i in metrics:\n",
    "    result = np.sum(sim4[i] * sim4['price'] * sim4['mean_demand']) / np.sum(sim4['mean_demand'] * sim4['price'])\n",
    "    print('%s: %.2f' % (i, result))"
   ]
  },
  {
   "cell_type": "code",
   "execution_count": 55,
   "id": "other-citizenship",
   "metadata": {},
   "outputs": [
    {
     "data": {
      "text/plain": [
       "1.8966903485723285"
      ]
     },
     "execution_count": 55,
     "metadata": {},
     "output_type": "execute_result"
    }
   ],
   "source": [
    "np.sum(sim4['safety_stock']/sim4['mean_demand'] * sim4['price'] * sim4['mean_demand']) / np.sum(sim4['mean_demand'] * sim4['price'])"
   ]
  }
 ],
 "metadata": {
  "kernelspec": {
   "display_name": "Python 3",
   "language": "python",
   "name": "python3"
  },
  "language_info": {
   "codemirror_mode": {
    "name": "ipython",
    "version": 3
   },
   "file_extension": ".py",
   "mimetype": "text/x-python",
   "name": "python",
   "nbconvert_exporter": "python",
   "pygments_lexer": "ipython3",
   "version": "3.8.2"
  }
 },
 "nbformat": 4,
 "nbformat_minor": 5
}
